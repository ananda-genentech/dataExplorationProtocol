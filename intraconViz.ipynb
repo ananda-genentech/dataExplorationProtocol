{
 "cells": [
  {
   "cell_type": "code",
   "execution_count": 1,
   "id": "2e5b9796",
   "metadata": {},
   "outputs": [],
   "source": [
    "# import necessary libraries\n",
    "import pandas as pd\n",
    "from pyvis.network import Network\n",
    "import ipywidgets as widgets"
   ]
  },
  {
   "cell_type": "code",
   "execution_count": 161,
   "id": "e4930e94",
   "metadata": {},
   "outputs": [
    {
     "data": {
      "text/html": [
       "<div>\n",
       "<style scoped>\n",
       "    .dataframe tbody tr th:only-of-type {\n",
       "        vertical-align: middle;\n",
       "    }\n",
       "\n",
       "    .dataframe tbody tr th {\n",
       "        vertical-align: top;\n",
       "    }\n",
       "\n",
       "    .dataframe thead th {\n",
       "        text-align: right;\n",
       "    }\n",
       "</style>\n",
       "<table border=\"1\" class=\"dataframe\">\n",
       "  <thead>\n",
       "    <tr style=\"text-align: right;\">\n",
       "      <th></th>\n",
       "      <th>To</th>\n",
       "      <th>Relationship</th>\n",
       "      <th>From</th>\n",
       "    </tr>\n",
       "  </thead>\n",
       "  <tbody>\n",
       "    <tr>\n",
       "      <th>0</th>\n",
       "      <td>Collinearity</td>\n",
       "      <td>negatively affects</td>\n",
       "      <td>ANOVA</td>\n",
       "    </tr>\n",
       "    <tr>\n",
       "      <th>1</th>\n",
       "      <td>Heterogeneity</td>\n",
       "      <td>negatively affects</td>\n",
       "      <td>ANOVA</td>\n",
       "    </tr>\n",
       "    <tr>\n",
       "      <th>2</th>\n",
       "      <td>Euclidean Distance</td>\n",
       "      <td>type of</td>\n",
       "      <td>Association Measure</td>\n",
       "    </tr>\n",
       "  </tbody>\n",
       "</table>\n",
       "</div>"
      ],
      "text/plain": [
       "                   To        Relationship                 From\n",
       "0        Collinearity  negatively affects                ANOVA\n",
       "1       Heterogeneity  negatively affects                ANOVA\n",
       "2  Euclidean Distance             type of  Association Measure"
      ]
     },
     "execution_count": 161,
     "metadata": {},
     "output_type": "execute_result"
    }
   ],
   "source": [
    "# load data and get unique nodes for graph\n",
    "data = pd.read_csv(\"intraconnections.csv\")\n",
    "nodes = sorted(set([*data.To, *data.From]))\n",
    "data.head(3)"
   ]
  },
  {
   "cell_type": "code",
   "execution_count": 221,
   "id": "449c1f02",
   "metadata": {},
   "outputs": [],
   "source": [
    "def makeNetwork(df, nodes, htmlName):\n",
    "    '''\n",
    "    Purpose: Create a Pyvis Network Graph\n",
    "    \n",
    "    Args:\n",
    "        df(dataframe): data that will be used to make\n",
    "                the graph. the columns should be as follows: \n",
    "                node1, relationship (consider direction), node2\n",
    "    \n",
    "        nodes(list): list of all the unique nodes in the dataset\n",
    "                union of node1 and node2 column with no repeats\n",
    "                    \n",
    "        htmlName(str): the title of the html file that the graph\n",
    "                will be saved under\n",
    "                \n",
    "    Returns: None, renders visualization\n",
    "    '''\n",
    "    \n",
    "    # intialize\n",
    "    net = Network(\n",
    "    directed=True,\n",
    "    height=\"1000px\",\n",
    "    )\n",
    "\n",
    "    # set distance\n",
    "    net.repulsion(node_distance=200, spring_length=100)\n",
    "    \n",
    "    # assign nodes\n",
    "    for node in nodes:\n",
    "        net.add_node(node, color='#eb4034')\n",
    "        \n",
    "    # assign edges\n",
    "    for index, row in df.iterrows():\n",
    "        net.add_edge(row[0], row[2], label=str(row[1]))\n",
    "        \n",
    "    # show graph\n",
    "    net.show(htmlName)"
   ]
  },
  {
   "cell_type": "code",
   "execution_count": 175,
   "id": "12678af5",
   "metadata": {},
   "outputs": [],
   "source": [
    "def getNeighborNodes(target, df, htmlName, k):\n",
    "    '''\n",
    "    Purpose: Create a Pyvis Network Graph with only the target node\n",
    "            & its neighbors (nodes it has a direct relationship with)\n",
    "    \n",
    "    Args:\n",
    "        target(str): node that will be the center of the graph.\n",
    "                will be chosen with dropdown prompted to user\n",
    "                \n",
    "        df(dataframe): data that will be used to make\n",
    "                the graph. the columns should be as follows: \n",
    "                node1, relationship (consider direction), node2\n",
    "                    \n",
    "        htmlName(str): the title of the html file that the graph\n",
    "                will be saved under\n",
    "                \n",
    "        k(int): minimum numbers of neighbors desired to render a graph\n",
    "                \n",
    "    Returns: None, renders visualization\n",
    "    '''\n",
    "    \n",
    "    # parse for only target node and its neighbors\n",
    "    target_df = df[(df.To == target) | (df.From == target)]\n",
    "    \n",
    "    # for undesirably small sub-graphs\n",
    "    if len(target_df) < k:\n",
    "        print('Choose a different topic')\n",
    "    \n",
    "    # for desirably sized sub-graphs\n",
    "    else:\n",
    "        # get neighbors\n",
    "        nodes = sorted(set([*target_df.To, *target_df.From]))\n",
    "    \n",
    "        # make graph\n",
    "        makeNetwork(target_df, nodes, htmlName)\n",
    "        print(f'Go Visit Your Graph @ {htmlName}')"
   ]
  },
  {
   "cell_type": "code",
   "execution_count": 176,
   "id": "569019fc",
   "metadata": {},
   "outputs": [],
   "source": [
    "# create drop down to choose target node/topic\n",
    "chooseTarget = widgets.Dropdown(\n",
    "    options= nodes,\n",
    "    value='PCA',\n",
    "    description='Choose a Topic about Data Exploration:',\n",
    "    disabled=False,\n",
    "    style={'description_width': 'initial'},\n",
    "    layout={'width': 'auto'}\n",
    ")"
   ]
  },
  {
   "cell_type": "code",
   "execution_count": 177,
   "id": "1234648b",
   "metadata": {},
   "outputs": [],
   "source": [
    "# create slider to choose target freq in df\n",
    "chooseK = widgets.IntSlider(\n",
    "    value=5,\n",
    "    min=1,\n",
    "    max=20,\n",
    "    step=1,\n",
    "    description='Choose a Number (1-20):',\n",
    "    disabled=False,\n",
    "    style={'description_width': 'initial'},\n",
    "    layout={'width': 'auto'}\n",
    ")"
   ]
  },
  {
   "cell_type": "code",
   "execution_count": 214,
   "id": "144ba116",
   "metadata": {},
   "outputs": [
    {
     "data": {
      "application/vnd.jupyter.widget-view+json": {
       "model_id": "430dd141b81f4c6a8aba97a95ee40a8b",
       "version_major": 2,
       "version_minor": 0
      },
      "text/plain": [
       "Dropdown(description='Choose a Topic about Data Exploration:', index=69, layout=Layout(width='auto'), options=…"
      ]
     },
     "metadata": {},
     "output_type": "display_data"
    }
   ],
   "source": [
    "# show entire network/graph\n",
    "network = makeNetwork(data, nodes, 'network.html')\n",
    "\n",
    "# choose a target node for sub-graph\n",
    "chooseTarget"
   ]
  },
  {
   "cell_type": "code",
   "execution_count": 8,
   "id": "d3fdb3d7",
   "metadata": {},
   "outputs": [
    {
     "data": {
      "application/vnd.jupyter.widget-view+json": {
       "model_id": "cea5ff77ffc94e13b6611ee4ecd53b97",
       "version_major": 2,
       "version_minor": 0
      },
      "text/plain": [
       "IntSlider(value=5, description='Choose a Number (1-20):', layout=Layout(width='auto'), max=20, min=1, style=Sl…"
      ]
     },
     "metadata": {},
     "output_type": "display_data"
    }
   ],
   "source": [
    "# choose a k value for sub-network restriction\n",
    "chooseK"
   ]
  },
  {
   "cell_type": "code",
   "execution_count": 268,
   "id": "d8ccbe55",
   "metadata": {},
   "outputs": [
    {
     "name": "stdout",
     "output_type": "stream",
     "text": [
      "Go Visit Your Graph @ zerotroubley.html\n"
     ]
    }
   ],
   "source": [
    "# assign values to user inputs\n",
    "targetNode = chooseTarget.value\n",
    "k = chooseK.value\n",
    "targetHTML = targetNode.lower().replace(' ', '')+'.html'\n",
    "\n",
    "# visualize sub-graph\n",
    "section = getNeighborNodes(targetNode, data, targetHTML, 0)"
   ]
  }
 ],
 "metadata": {
  "kernelspec": {
   "display_name": "Python 3 (ipykernel)",
   "language": "python",
   "name": "python3"
  },
  "language_info": {
   "codemirror_mode": {
    "name": "ipython",
    "version": 3
   },
   "file_extension": ".py",
   "mimetype": "text/x-python",
   "name": "python",
   "nbconvert_exporter": "python",
   "pygments_lexer": "ipython3",
   "version": "3.9.13"
  }
 },
 "nbformat": 4,
 "nbformat_minor": 5
}
